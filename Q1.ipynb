{
 "cells": [
  {
   "cell_type": "code",
   "execution_count": 6,
   "metadata": {},
   "outputs": [],
   "source": [
    "from scipy import io\n",
    "from scipy import stats\n",
    "import numpy as np\n",
    "import matplotlib.pyplot as plt\n",
    "import seaborn as sns\n",
    "import pandas as pd"
   ]
  },
  {
   "cell_type": "code",
   "execution_count": 8,
   "metadata": {},
   "outputs": [],
   "source": [
    "# Loading the .mat files\n",
    "mfcc = io.loadmat(\"mfcc.mat\")\n",
    "musigma = io.loadmat(\"MuSigma.mat\")"
   ]
  },
  {
   "cell_type": "code",
   "execution_count": 9,
   "metadata": {},
   "outputs": [],
   "source": [
    "# Subsetting mfcc vectors\n",
    "mfccx = mfcc[\"X\"]\n",
    "# Subsetting mean from MuSigma\n",
    "mean = musigma[\"mX\"]\n",
    "# Subsetting sigma from MuSigma\n",
    "sigma = musigma[\"Sigma\"]"
   ]
  },
  {
   "cell_type": "code",
   "execution_count": 10,
   "metadata": {},
   "outputs": [
    {
     "data": {
      "image/png": "[encoded data removed]",
      "text/plain": [
       "<Figure size 432x288 with 2 Axes>"
      ]
     },
     "metadata": {
      "needs_background": "light"
     },
     "output_type": "display_data"
    }
   ],
   "source": [
    "# Calculating p.d.f of mfcc vectors for piano music\n",
    "P1 = stats.multivariate_normal.pdf(mfccx.T, mean[:,0], sigma[:,:,0]).reshape(1,962)\n",
    "# Calculating p.d.f of mfcc vectors for clap sound\n",
    "P2 = stats.multivariate_normal.pdf(mfccx.T, mean[:,1], sigma[:,:,1]).reshape(1,962)\n",
    "# Conatenating two 1x962 matrices row-wise to get P which is a 2x962 matrix\n",
    "P = np.concatenate((P1, P2), axis = 0)\n",
    "\n",
    "# Normalizing P matrix to get posterior probabilities\n",
    "Pnorm = P/P.sum(axis = 0)\n",
    "\n",
    "# Plotting the posterior probabilities\n",
    "ax = sns.heatmap(Pnorm)"
   ]
  },
  {
   "cell_type": "code",
   "execution_count": null,
   "metadata": {},
   "outputs": [],
   "source": [
    "Pnorm"
   ]
  },
  {
   "cell_type": "code",
   "execution_count": 142,
   "metadata": {},
   "outputs": [
    {
     "data": {
      "image/png": "[encoded data removed]",
      "text/plain": [
       "<Figure size 432x288 with 2 Axes>"
      ]
     },
     "metadata": {},
     "output_type": "display_data"
    }
   ],
   "source": [
    "### Using transition matrix to compute posterior probability\n",
    "\n",
    "# Defining transition matrix T\n",
    "T = np.array([[0.9, 0.1], [0, 1]])\n",
    "\n",
    "# Taking the first column from Pnorm matrix to the new matrix, as no prior state is available for first column\n",
    "tranP = Pnorm[:,0].reshape(2,1)\n",
    "\n",
    "for i in range(1,Pnorm.shape[1]):\n",
    "    # Getting b, the index of the maximum of the two rows in each column in Pnorm\n",
    "    b = Pnorm[:,i-1].argmax(axis = 0)\n",
    "    # Subsetting bth row from transition matrix T\n",
    "    selT = T[b, :]\n",
    "    # Multiplying subsetted row selT with the column in Pnorm\n",
    "    newP = (selT.T * Pnorm[:,i]).reshape(2,1)\n",
    "    # Appending the vector computed in previous step to the new \n",
    "    tranP = np.concatenate((tranP, newP), axis = 1)\n",
    "# Normalizing new matrix to compute posterior probability\n",
    "tranPnorm = tranP/tranP.sum(axis = 0)\n",
    "# Plotting the results\n",
    "ax = sns.heatmap(tranPnorm)"
   ]
  },
  {
   "cell_type": "code",
   "execution_count": 143,
   "metadata": {},
   "outputs": [],
   "source": [
    "### Implementing Viterbi ALgorithm\n",
    "\n",
    "# Viterbi algorithm results will be stored in vitP0 for piano music\n",
    "vitP0 = [Pnorm[0,0]]\n",
    "# Viterbi algorithm results will be stored in vitP1 for clap sound\n",
    "vitP1 = [Pnorm[1,0]]\n",
    "# Initializing B0, as mentioned in equation 11 of assignment\n",
    "B0 = [(T[:,0] * Pnorm[:,0]).argmax(axis = 0)]\n",
    "# Initializing B1, just like B0, but for the clap sound\n",
    "B1 = [(T[:,1] * Pnorm[:,0]).argmax(axis = 0)]\n",
    "\n",
    "for i in range(1,Pnorm.shape[1]):\n",
    "    \n",
    "    # Calculating B0, as mentioned in equation 11 of assignment\n",
    "    b0 = (T[:,0] * Pnorm[:,i-1]).argmax(axis = 0)\n",
    "    B0.append(b0)\n",
    "    # Calculating vitP0, as in equation 12 of assignment\n",
    "    vitP0.append(T[b0,0] * Pnorm[0,i-1] * Pnorm[0,i])\n",
    "    \n",
    "    # Steps similar as above, but for clap sound\n",
    "    b1 = (T[:,1] * Pnorm[:,i-1]).argmax(axis = 0)\n",
    "    B1.append(b1)\n",
    "    vitP1.append(T[b1,1] * Pnorm[1,i-1] * Pnorm[1,i])\n"
   ]
  },
  {
   "cell_type": "code",
   "execution_count": 144,
   "metadata": {},
   "outputs": [],
   "source": [
    "### Backtracking results from Viterbi Algorithm\n",
    "\n",
    "# Concatenating results vitP0 and vitP1 to form posterior probability matrix\n",
    "vitP = np.vstack([vitP0, vitP1])\n",
    "# Normalizing as mentioned in step 9 of assignment\n",
    "vitPnorm = vitP/vitP.sum(axis = 0)\n",
    "# Appending B0 and B1 to get B\n",
    "B = np.vstack([B0, B1])\n",
    "\n",
    "# Bactracking results are stored in res\n",
    "res = [None]*(vitPnorm.shape[1])\n",
    "res[961] = 1\n",
    "\n",
    "for i in range(vitPnorm.shape[1]-1,0,-1):\n",
    "    # Backtracking as mentioned in step 10 of assignment\n",
    "    b = vitPnorm[:,i].argmax(axis = 0)\n",
    "    res[i-1] = B[b, i-1]"
   ]
  },
  {
   "cell_type": "code",
   "execution_count": 140,
   "metadata": {},
   "outputs": [
    {
     "data": {
      "image/png": "[encoded data removed]",
      "text/plain": [
       "<Figure size 432x288 with 1 Axes>"
      ]
     },
     "metadata": {},
     "output_type": "display_data"
    }
   ],
   "source": [
    "### Plotting backtracked results\n",
    "\n",
    "df = pd.DataFrame({\"x\": list(range(962)),\"y\": res})\n",
    "ax = sns.lineplot(x = \"x\", y = \"y\", data = df)"
   ]
  }
 ],
 "metadata": {
  "kernelspec": {
   "display_name": "Python 3",
   "language": "python",
   "name": "python3"
  },
  "language_info": {
   "codemirror_mode": {
    "name": "ipython",
    "version": 3
   },
   "file_extension": ".py",
   "mimetype": "text/x-python",
   "name": "python",
   "nbconvert_exporter": "python",
   "pygments_lexer": "ipython3",
   "version": "3.7.0"
  }
 },
 "nbformat": 4,
 "nbformat_minor": 2
}
